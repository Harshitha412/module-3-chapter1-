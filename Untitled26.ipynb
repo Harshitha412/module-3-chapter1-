{
  "nbformat": 4,
  "nbformat_minor": 0,
  "metadata": {
    "colab": {
      "name": "Untitled26.ipynb",
      "provenance": [],
      "collapsed_sections": [],
      "authorship_tag": "ABX9TyOxDK60rwCuY4bQQsv2Fr4O",
      "include_colab_link": true
    },
    "kernelspec": {
      "name": "python3",
      "display_name": "Python 3"
    }
  },
  "cells": [
    {
      "cell_type": "markdown",
      "metadata": {
        "id": "view-in-github",
        "colab_type": "text"
      },
      "source": [
        "<a href=\"https://colab.research.google.com/github/Harshitha412/module-3-chapter1-/blob/master/Untitled26.ipynb\" target=\"_parent\"><img src=\"https://colab.research.google.com/assets/colab-badge.svg\" alt=\"Open In Colab\"/></a>"
      ]
    },
    {
      "cell_type": "code",
      "metadata": {
        "id": "DTM5XcEEodKn",
        "colab_type": "code",
        "colab": {
          "base_uri": "https://localhost:8080/",
          "height": 50
        },
        "outputId": "838c798f-38de-447d-e81e-b60a3f9ce8dd"
      },
      "source": [
        "#convert binary number to decimal\n",
        "b_num=list(input(\"input a binary number:\"))\n",
        "value=0\n",
        "for i in range(len(b_num)):\n",
        "  digit=b_num.pop()\n",
        "  if digit == '1':\n",
        "    value = value+pow(2,i)\n",
        "print(\"the decimal value of the number is\",value)"
      ],
      "execution_count": 1,
      "outputs": [
        {
          "output_type": "stream",
          "text": [
            "input a binary number:34\n",
            "the decimal value of the number is 0\n"
          ],
          "name": "stdout"
        }
      ]
    },
    {
      "cell_type": "code",
      "metadata": {
        "id": "2zfR0KjEpaeB",
        "colab_type": "code",
        "colab": {
          "base_uri": "https://localhost:8080/",
          "height": 202
        },
        "outputId": "e95a1863-75e7-4682-f0ec-8731ebe79854"
      },
      "source": [
        "#display multiplication table of k.take k value from user\n",
        "num = int(input(\"enter a number:\"))\n",
        "for i in range(1,11):\n",
        "  print(num,'x',i,'=',num*i)"
      ],
      "execution_count": 2,
      "outputs": [
        {
          "output_type": "stream",
          "text": [
            "enter a number:8\n",
            "8 x 1 = 8\n",
            "8 x 2 = 16\n",
            "8 x 3 = 24\n",
            "8 x 4 = 32\n",
            "8 x 5 = 40\n",
            "8 x 6 = 48\n",
            "8 x 7 = 56\n",
            "8 x 8 = 64\n",
            "8 x 9 = 72\n",
            "8 x 10 = 80\n"
          ],
          "name": "stdout"
        }
      ]
    },
    {
      "cell_type": "code",
      "metadata": {
        "id": "7u4VWYj7qMfv",
        "colab_type": "code",
        "colab": {
          "base_uri": "https://localhost:8080/",
          "height": 67
        },
        "outputId": "b77f0479-3395-4544-f9bd-e1c7190d4261"
      },
      "source": [
        "#generate first N number of fibonacci numbers.take N value from user\n",
        "n=int(input(\"enter the value of 'n':\"))\n",
        "a=0\n",
        "b=1\n",
        "print(\"fibonacci series:\")\n",
        "for i in range(1,n+1):\n",
        "  print(a,end='\\t')\n",
        "  c=a+b\n",
        "  a=b\n",
        "  b=c"
      ],
      "execution_count": 3,
      "outputs": [
        {
          "output_type": "stream",
          "text": [
            "enter the value of 'n':6\n",
            "fibonacci series:\n",
            "0\t1\t1\t2\t3\t5\t"
          ],
          "name": "stdout"
        }
      ]
    },
    {
      "cell_type": "code",
      "metadata": {
        "id": "r4jzj2Naq9PG",
        "colab_type": "code",
        "colab": {
          "base_uri": "https://localhost:8080/",
          "height": 286
        },
        "outputId": "3749b383-dafe-44e8-a5ed-f15444c13efc"
      },
      "source": [
        "#take 10 integers from keyboard using loop and print their average value on the screen and print the pattern using loop\n",
        "l1=[]\n",
        "for i in range(0,10):\n",
        "  x=int(input(\"enter number:\"))\n",
        "  l1.append(x)\n",
        "suml=sum(l1)/10\n",
        "print(\"average=\",suml)\n",
        "for j in range(5):\n",
        "  for k in range(5):\n",
        "    print(\"*\",end='')\n",
        "  print('/n')"
      ],
      "execution_count": 10,
      "outputs": [
        {
          "output_type": "stream",
          "text": [
            "enter number:4\n",
            "enter number:5\n",
            "enter number:3\n",
            "enter number:2\n",
            "enter number:1\n",
            "enter number:9\n",
            "enter number:3\n",
            "enter number:6\n",
            "enter number:7\n",
            "enter number:8\n",
            "average= 4.8\n",
            "*****/n\n",
            "*****/n\n",
            "*****/n\n",
            "*****/n\n",
            "*****/n\n"
          ],
          "name": "stdout"
        }
      ]
    }
  ]
}